{
 "cells": [
  {
   "cell_type": "markdown",
   "metadata": {},
   "source": [
    "# Wk02D2 Homework"
   ]
  },
  {
   "cell_type": "markdown",
   "metadata": {},
   "source": [
    "# Exercises"
   ]
  },
  {
   "cell_type": "markdown",
   "metadata": {},
   "source": [
    "## Exercise 1 <br>\n",
    "<p>Given a list as a parameter,write a function that returns a list of numbers that are less than ten</b></i></p><br>\n",
    "<p> For example: Say your input parameter to the function is [1,11,14,5,8,9]...Your output should [1,5,8,9]</p>"
   ]
  },
  {
   "cell_type": "code",
   "execution_count": 1,
   "metadata": {},
   "outputs": [
    {
     "name": "stdout",
     "output_type": "stream",
     "text": [
      "Original List: \n",
      "[1, 11, 14, 5, 8, 9]\n",
      "\n",
      "Ex1_v1: \n",
      "[1, 5, 8, 9]\n",
      "\n",
      "Ex1_v2: \n",
      "[1, 5, 8, 9]\n",
      "\n",
      "Ex1_v3: \n",
      "[1, 5, 8, 9]\n",
      "\n"
     ]
    }
   ],
   "source": [
    "# Use the following list - [1,11,14,5,8,9]\n",
    "\n",
    "l_1 = [1,11,14,5,8,9]\n",
    "\n",
    "\n",
    "# Attempt 1\n",
    "def Ex1_v1(lst):\n",
    "    \"\"\"\n",
    "    Attempt 1\n",
    "    Uses list comprehension\n",
    "    \"\"\"\n",
    "    return [num for num in lst if num < 10]\n",
    "\n",
    "\n",
    "def Ex1_v2(lst):\n",
    "    \"\"\"\n",
    "    Attempt 2\n",
    "    Accounts for when list doesn't only contain numbers (fool proofs it)\n",
    "    \"\"\"\n",
    "    new_list = []\n",
    "    for num in lst:\n",
    "        if (isinstance(num,int) or isinstance(num,float)) and num < 10:\n",
    "            new_list.append(num)            \n",
    "    return new_list    \n",
    "        \n",
    "# Attempt 3\n",
    "\n",
    "def Ex1_v3(lst):\n",
    "    \"\"\"\n",
    "    Attempt 3\n",
    "    Merges the list comprehension benefits of v1 with the fool proofing of v2\n",
    "    \n",
    "    \"\"\"\n",
    "    lst_filter = lambda num: (isinstance(num,int) or isinstance(num,float)) and num < 10\n",
    "    return [num for num in lst if lst_filter(num)]\n",
    "\n",
    "\n",
    "print(\"Original List: \",l_1,sep=\"\\n\",end=\"\\n\\n\")\n",
    "print(\"Ex1_v1: \",Ex1_v1(l_1),sep=\"\\n\",end=\"\\n\\n\")\n",
    "print(\"Ex1_v2: \",Ex1_v2(l_1),sep=\"\\n\",end=\"\\n\\n\")\n",
    "print(\"Ex1_v3: \",Ex1_v3(l_1),sep=\"\\n\",end=\"\\n\\n\")\n"
   ]
  },
  {
   "cell_type": "markdown",
   "metadata": {},
   "source": [
    "## Exercise 2 <br>\n",
    "<p>Write a function that takes in two lists and returns the two lists merged together and sorted<br>\n",
    "<b><i>Hint: You can use the .sort() method</i></b></p>"
   ]
  },
  {
   "cell_type": "code",
   "execution_count": 2,
   "metadata": {},
   "outputs": [
    {
     "name": "stdout",
     "output_type": "stream",
     "text": [
      "List 1:\n",
      "[0, 1, 2, 59, 13, 3, 4, 5, 6]\n",
      "\n",
      "List 2:\n",
      "[3, 4, 902, 78, 6, 102, 901, 54, 8, 10]\n",
      "\n",
      "Ex2_v1: \n",
      "[0, 1, 2, 3, 3, 4, 4, 5, 6, 6, 8, 10, 13, 54, 59, 78, 102, 901, 902]\n",
      "\n",
      "Ex2_v2: \n",
      "[902, 901, 102, 78, 59, 54, 13, 10, 8, 6, 6, 5, 4, 4, 3, 3, 2, 1, 0]\n",
      "\n",
      "Ex2_v3: \n",
      "[0, 1, 2, 3, 4, 5, 6, 8, 10, 13, 54, 59, 78, 102, 901, 902]\n",
      "\n",
      "Ex2_v4: \n",
      "[102, 901, 902, 10, 13, 54, 59, 78, 0, 1, 2, 3, 3, 4, 4, 5, 6, 6, 8]\n",
      "\n"
     ]
    }
   ],
   "source": [
    "# There is no instruction on how to sort. I took liberties in my interpretation\n",
    "\n",
    "\n",
    "list_1 = [0,1,2,59,13,3,4,5,6]\n",
    "list_2 = [3,4,902,78,6,102,901,54,8,10]\n",
    "\n",
    "def Ex2_v1(lst1,lst2):\n",
    "    \"\"\"\n",
    "    Attempt 1\n",
    "    Takes two lists as inputs. Merges and then sorts copies of lists in ascending order\n",
    "    \"\"\"\n",
    "    new_list = lst1[:]\n",
    "    new_list.extend(lst2)\n",
    "    new_list.sort()\n",
    "    return new_list\n",
    "    \n",
    "def Ex2_v2(lst1,lst2):\n",
    "    \"\"\"\n",
    "    Attempt 2\n",
    "    Takes two lists as inputs. Merges and then sorts copies of lists in descending order\n",
    "    \"\"\"\n",
    "    new_list = lst1[:]\n",
    "    new_list.extend(lst2)\n",
    "    new_list.sort(reverse=True)\n",
    "    return new_list\n",
    "    \n",
    "    \n",
    "def Ex2_v3(lst1,lst2):\n",
    "    \"\"\"\n",
    "    Attempt 3\n",
    "    Takes two lists as inputs. Merges and then sorts copies of lists in ascending order\n",
    "    with duplicates removed\n",
    "    \"\"\"\n",
    "    set_list = set(lst1)\n",
    "    set_list.update(lst2)\n",
    "    return sorted(set_list)\n",
    "    \n",
    "    \n",
    "def Ex2_v4(lst1,lst2):\n",
    "    \"\"\"\n",
    "    Attempt 4\n",
    "    Requirement: All items in inputs lists must be non-negative integers. Errors if not met.\n",
    "    What it does: Takes two lists as inputs. Merges copies of the lists. \n",
    "    Sorts in parculiar way. First sorts in descending order based on number of digits of each\n",
    "    number. Then for all numbers with name number of digits, sorts in ascending order by value\n",
    "     \n",
    "    \"\"\"\n",
    "    new_list = lst1[:]\n",
    "    new_list.extend(lst2)\n",
    "    check_if_int = lambda x: not isinstance(x,bool) and isinstance(x,int) and x >= 0\n",
    "    if not all(map(check_if_int,new_list)):\n",
    "        return \"All items in list need to be ints\"\n",
    "    my_key = lambda x: (len(str(x)),-x)\n",
    "    new_list.sort(reverse=True,key=my_key)\n",
    "    return new_list\n",
    "\n",
    "\n",
    "print(\"List 1:\",list_1,sep='\\n',end=\"\\n\\n\")\n",
    "print(\"List 2:\",list_2,sep='\\n',end=\"\\n\\n\")\n",
    "print(\"Ex2_v1: \",Ex2_v1(list_1,list_2),sep=\"\\n\",end=\"\\n\\n\")\n",
    "print(\"Ex2_v2: \",Ex2_v2(list_1,list_2),sep=\"\\n\",end=\"\\n\\n\")\n",
    "print(\"Ex2_v3: \",Ex2_v3(list_1,list_2),sep=\"\\n\",end=\"\\n\\n\")\n",
    "print(\"Ex2_v4: \",Ex2_v4(list_1,list_2),sep=\"\\n\",end=\"\\n\\n\")"
   ]
  }
 ],
 "metadata": {
  "kernelspec": {
   "display_name": "Python 3 (ipykernel)",
   "language": "python",
   "name": "python3"
  },
  "language_info": {
   "codemirror_mode": {
    "name": "ipython",
    "version": 3
   },
   "file_extension": ".py",
   "mimetype": "text/x-python",
   "name": "python",
   "nbconvert_exporter": "python",
   "pygments_lexer": "ipython3",
   "version": "3.9.15"
  }
 },
 "nbformat": 4,
 "nbformat_minor": 2
}
